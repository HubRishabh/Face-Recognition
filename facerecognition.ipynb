{
  "nbformat": 4,
  "nbformat_minor": 0,
  "metadata": {
    "colab": {
      "provenance": [],
      "gpuType": "T4",
      "authorship_tag": "ABX9TyPS9Nq+gUCtbdeiQEbnYHTa",
      "include_colab_link": true
    },
    "kernelspec": {
      "name": "python3",
      "display_name": "Python 3"
    },
    "language_info": {
      "name": "python"
    },
    "accelerator": "GPU"
  },
  "cells": [
    {
      "cell_type": "markdown",
      "metadata": {
        "id": "view-in-github",
        "colab_type": "text"
      },
      "source": [
        "<a href=\"https://colab.research.google.com/github/HubRishabh/Face-Recognition/blob/main/facerecognition.ipynb\" target=\"_parent\"><img src=\"https://colab.research.google.com/assets/colab-badge.svg\" alt=\"Open In Colab\"/></a>"
      ]
    },
    {
      "cell_type": "code",
      "execution_count": null,
      "metadata": {
        "id": "kR7OD1QL-x0n"
      },
      "outputs": [],
      "source": [
        "import cv2"
      ]
    },
    {
      "cell_type": "code",
      "source": [
        "face_cascade = cv2.CascadeClassifier('face_detector.xml') #Load the cascade`"
      ],
      "metadata": {
        "id": "OyaWX9n-CHVz"
      },
      "execution_count": null,
      "outputs": []
    },
    {
      "cell_type": "code",
      "source": [
        "img = cv2.imread('test1.jpg') #Read the imput image"
      ],
      "metadata": {
        "id": "By3RmXf2CwyL"
      },
      "execution_count": null,
      "outputs": []
    },
    {
      "cell_type": "code",
      "source": [
        "faces = face_cascade.detectMultiScale(img, 1.1, 4) #Detect faces"
      ],
      "metadata": {
        "id": "Ie7qoubeDZHs"
      },
      "execution_count": null,
      "outputs": []
    },
    {
      "cell_type": "code",
      "source": [
        "#Draw rectangle around the faces\n",
        "for (x, y, w, h) in faces:\n",
        "  cv2.rectangle(img, (x, y), (x+w, y+h), (255, 0, 0), 2)"
      ],
      "metadata": {
        "id": "KCAcEwVtDvmi"
      },
      "execution_count": null,
      "outputs": []
    },
    {
      "cell_type": "code",
      "source": [
        "#Export the result\n",
        "cv2.imwrite(\"face_detected.png\", img)\n",
        "print('Photo successfully exported!')"
      ],
      "metadata": {
        "colab": {
          "base_uri": "https://localhost:8080/"
        },
        "id": "vwl3DZYXFTey",
        "outputId": "2f65a85e-29d9-4cce-96bc-127302e16753"
      },
      "execution_count": null,
      "outputs": [
        {
          "output_type": "stream",
          "name": "stdout",
          "text": [
            "Photo successfully exported!\n"
          ]
        }
      ]
    }
  ]
}